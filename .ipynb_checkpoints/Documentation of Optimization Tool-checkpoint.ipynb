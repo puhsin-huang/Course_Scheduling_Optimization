{
 "cells": [
  {
   "cell_type": "markdown",
   "metadata": {},
   "source": [
    "This is the documentation of our optimization tool. You can gain the following information after reading through the documentation.\n",
    "\n",
    "1. Introduction of the optimization tool\n",
    "2. Instruction for running from command line\n",
    "3. Instruction for running in a Jupyter notebook"
   ]
  },
  {
   "cell_type": "markdown",
   "metadata": {},
   "source": [
    "# Introduction of the optimization tool: \n",
    "\n",
    "Our optimization tool `optimize.py` contains a function called `optimize` with two input parameters:\n",
    "\n",
    "- `inputeFile`: the path to the input file. (An example of an input file is \"Sample_Input.xlsx\".)\n",
    "\n",
    "- `outputFile`: the path to the output file to be created by the function. (An example of an output file is \"Sample_Output.xlsx\")\n",
    " "
   ]
  },
  {
   "cell_type": "markdown",
   "metadata": {},
   "source": [
    "## Input data format \n",
    "\n",
    "The input data should consist of ten sheets. These sheets include information about the classrooms within JKP, the timeslots available, the department’s hourly needs, and each department’s time-slot preference. Each of these input Excel sheets will be discussed below:\n",
    "\n",
    "`classroom – Pr`: Describes the available graduate classrooms within JKP.\n",
    "\n",
    "- The first column is called `classroom`, which contains the identifying classroom number.\n",
    "- The second column is called `size`, which contains the capacity of the classroom.\n",
    "- The third column is called `Big`, which countains a binary identifier that signals whether the classroom is considered “Big” (1), meaning the capacity is greater than or equal to 77, or “Small” (0), meaning the classroom capacity is less than 77.\n",
    "\n",
    "<img src=\"classroom.png\">\n",
    "\n",
    "`hours - ht`: Describes the time-slots across the different weekdays. \n",
    "\n",
    "- The column index is weekday. In the column index, weekdays are displayed numerically – Monday through Friday corresponds to the numbers 1 to 5. \n",
    "- The row index is timeslot. It consists of eight timeslots from 8:00 a.m. to 21:30 p.m. \n",
    "- In each cell, it provides the amount of teaching hours within each of the eight timeslots for each weekday. \n",
    "\n",
    "<img src=\"hours.png\">\n",
    "\n",
    "`md`: Describes the 7 graduate departments and the total hours of teaching that each will provide in that semester.\n",
    "\n",
    "- The first column is called `department`, which contains the abbreviation of the seven graduate departments.\n",
    "- The second column is called `hours to teach in a semester`, which contains the total teaching hours of each department.\n",
    "\n",
    "<img src=\"md.png\">\n",
    "\n",
    "`MKT`, `BUCO`, …, `BAEP`: These seven sheets represent the seven graduate department’s individual preference scores for specific timeslots across the five weekdays.\n",
    "\n",
    "- These sheets are all formatted the same, as shown in the following graph, with each cell corresponding to the proportion(between 0 to 1) of teachers within each department that want that time-slot for that particular weekday. \n",
    "\n",
    "<img src=\"MKT.png\">"
   ]
  },
  {
   "cell_type": "markdown",
   "metadata": {},
   "source": [
    "## Output data format\n",
    "\n",
    "The output data should consist of one sheet, formated as the following figure."
   ]
  },
  {
   "cell_type": "markdown",
   "metadata": {},
   "source": [
    "<img src=\"output.jpeg\">"
   ]
  },
  {
   "cell_type": "markdown",
   "metadata": {},
   "source": [
    "The column denotes the classrooms and double-index denotes the weekdays and the time slots. Noted that on Wednesday and Thursday we only show the 18:30-21:30 time slot since all other time slots are the same as Monday’s and Tuesday’s and thus redundant. As you can see for each timeslot on each day, a particular department is assigned."
   ]
  },
  {
   "cell_type": "markdown",
   "metadata": {},
   "source": [
    "# Instructions for running from command line \n",
    "\n",
    "You can use the following command to run our optimization tool from command (in Anaconda prompt in Windows and in a Terminal in Max) .\n",
    "\n",
    "`python optimize.py inputFile outputFile`\n",
    "\n",
    "where “inputFile” should be replaced by the path to the input file, and “outputFile” should be replaced by the path to the output file. (For example, inputFile might be “Sample_Input.xlsx” and outputFile might be “Sample_Output.xlsx”.)"
   ]
  },
  {
   "cell_type": "markdown",
   "metadata": {},
   "source": [
    "# Instructions for running in a Jupyter notebook \n",
    "\n",
    "You can follow the three steps below to successfully run our optimization function in a Jupyter notebook.\n",
    "\n",
    "__Step 1:__\n",
    "\n",
    "You should first import the necessary modules and functions using the following three commands by copy pasting them into a code cell and running them:\n",
    "\n",
    "`import numpy as np`\n",
    "\n",
    "`import pandas as pd`\n",
    "\n",
    "`from gurobipy import Model, GRB`\n",
    "\n",
    "__Step 2:__ \n",
    "\n",
    "To import the optimization function, you can copy the function part from `optimize.py`, to a code cell and run it. \n",
    "\n",
    "The function part starts from \n",
    "\n",
    "``def optimize(inputFile,outputFile):``\n",
    "\n",
    "and ends with \n",
    "\n",
    "``writer.save()``.\n",
    "\n",
    "__Step 3:__\n",
    "\n",
    "Finally, you can run the following command in a new code cell:\n",
    "\n",
    "`optimize('Sample_Input.xlsx', 'Sample_Output.xlsx')`\n",
    "\n",
    "You should make sure the inputFile is in the same directory where your Jupyter notebook is. The code will produce the desired output of an optimized schedule and export it to an Excel file located in the same directory with the output name just as you defined."
   ]
  }
 ],
 "metadata": {
  "kernelspec": {
   "display_name": "Python 3",
   "language": "python",
   "name": "python3"
  },
  "language_info": {
   "codemirror_mode": {
    "name": "ipython",
    "version": 3
   },
   "file_extension": ".py",
   "mimetype": "text/x-python",
   "name": "python",
   "nbconvert_exporter": "python",
   "pygments_lexer": "ipython3",
   "version": "3.7.6"
  }
 },
 "nbformat": 4,
 "nbformat_minor": 4
}
